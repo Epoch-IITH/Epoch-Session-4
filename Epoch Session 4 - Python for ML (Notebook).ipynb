{
  "nbformat": 4,
  "nbformat_minor": 0,
  "metadata": {
    "colab": {
      "provenance": []
    },
    "kernelspec": {
      "name": "python3",
      "display_name": "Python 3"
    },
    "language_info": {
      "name": "python"
    }
  },
  "cells": [
    {
      "cell_type": "markdown",
      "source": [
        "# **Epoch + GDSC Session: Python for ML**\n",
        "## Content prepared by: Donal, Ananya, Digjoy, Rudransh, Satwik, Vijay, Maharshi, Anirudh"
      ],
      "metadata": {
        "id": "N6sujYkV69b_"
      }
    },
    {
      "cell_type": "code",
      "source": [
        "#Lets start by importing some libraries required for the session. \n",
        "\n",
        "import matplotlib.pyplot as plt\n",
        "import numpy as np\n",
        "import os\n",
        "import time\n",
        "import sys"
      ],
      "metadata": {
        "id": "2uaafcgaCA5H"
      },
      "execution_count": 1,
      "outputs": []
    },
    {
      "cell_type": "markdown",
      "source": [
        "# Variables and Data Types"
      ],
      "metadata": {
        "id": "AwlqzFSPI1gy"
      }
    },
    {
      "cell_type": "code",
      "source": [
        "# Python automatically assigns the variables \n",
        "x = 2\n",
        "y = 3.14\n",
        "\n",
        "z = \"Machine Learning\"\n",
        "\n",
        "print(\"Data type of x: {}\".format(type(x)))\n",
        "print(\"Data type of y: {}\".format(type(y)))\n",
        "print(\"Data type of z: {}\".format(type(z)))\n",
        "\n",
        "# Type Casting\n",
        "x = float(x)\n",
        "print(\"Data type of x: {}\".format(type(x)))"
      ],
      "metadata": {
        "id": "gJ9yfGiZI5-6",
        "colab": {
          "base_uri": "https://localhost:8080/"
        },
        "outputId": "f4e6a6d1-5a40-491b-e56c-ed9a33d8fa80"
      },
      "execution_count": 2,
      "outputs": [
        {
          "output_type": "stream",
          "name": "stdout",
          "text": [
            "Data type of x: <class 'int'>\n",
            "Data type of y: <class 'float'>\n",
            "Data type of z: <class 'str'>\n",
            "Data type of x: <class 'float'>\n"
          ]
        }
      ]
    },
    {
      "cell_type": "markdown",
      "source": [
        "# Strings \n",
        "- Slicing\n",
        "- Concatenation \n",
        "- formatted strings\n",
        "- split"
      ],
      "metadata": {
        "id": "gpqMeSD2UOp1"
      }
    },
    {
      "cell_type": "code",
      "source": [
        "club1 = 'Epoch - The AI-ML & Data Science Club'\n",
        "club2 = 'GDSC - Google Developer Student Club'\n",
        "\n",
        "# string slicing and formatted strings \n",
        "print(f\"Welcome to the {club1[0:5]} and {club2[:4]} session\")"
      ],
      "metadata": {
        "id": "SbXu0uFqH8_b",
        "colab": {
          "base_uri": "https://localhost:8080/"
        },
        "outputId": "c9266098-d98c-4e94-83d9-2689b8da8b6f"
      },
      "execution_count": 3,
      "outputs": [
        {
          "output_type": "stream",
          "name": "stdout",
          "text": [
            "Welcome to the Epoch and GDSC session\n"
          ]
        }
      ]
    },
    {
      "cell_type": "code",
      "source": [
        "# SYNTAX : string.split(separator, maxsplit)\n",
        "\n",
        "s = \"Hi there Sam!\" \n",
        "print(list(s))          # converts the string into list of characters\n",
        "print(\"\\n\")\n",
        "s.split()                # Splits the String into lists over the whitepace (By default any whitespace is a separator)"
      ],
      "metadata": {
        "id": "eECfRdLmD-G6",
        "colab": {
          "base_uri": "https://localhost:8080/"
        },
        "outputId": "01e8ca71-56ac-4b94-d553-cd400436b80f"
      },
      "execution_count": 4,
      "outputs": [
        {
          "output_type": "stream",
          "name": "stdout",
          "text": [
            "['H', 'i', ' ', 't', 'h', 'e', 'r', 'e', ' ', 'S', 'a', 'm', '!']\n",
            "\n",
            "\n"
          ]
        },
        {
          "output_type": "execute_result",
          "data": {
            "text/plain": [
              "['Hi', 'there', 'Sam!']"
            ]
          },
          "metadata": {},
          "execution_count": 4
        }
      ]
    },
    {
      "cell_type": "code",
      "source": [
        "planet = \"Earth\"\n",
        "diameter = 12742\n",
        "print(\"The diameter of {} is {} kilometers.\" .format(diameter,planet))\n",
        "\n",
        "# Any guesses ? "
      ],
      "metadata": {
        "id": "b1BuLOe3EowV",
        "colab": {
          "base_uri": "https://localhost:8080/"
        },
        "outputId": "06bc8825-c0e1-43bc-97a9-0918837b8385"
      },
      "execution_count": 5,
      "outputs": [
        {
          "output_type": "stream",
          "name": "stdout",
          "text": [
            "The diameter of 12742 is Earth kilometers.\n"
          ]
        }
      ]
    },
    {
      "cell_type": "markdown",
      "source": [
        "**Careful !** because order of parameter matters here ."
      ],
      "metadata": {
        "id": "CaNUDdI5SYpl"
      }
    },
    {
      "cell_type": "markdown",
      "source": [
        "# Lists\n",
        "- Indexing / Changing \n",
        "- Slicing"
      ],
      "metadata": {
        "id": "HYqpIOAAVPS6"
      }
    },
    {
      "cell_type": "code",
      "source": [
        "# change list item values\n",
        "binge_study_list = ['Discrete Maths', 'ITP']\n",
        "binge_study_list[0] = 'Instagram'\n",
        "binge_study_list[1] = 'Youtube'\n",
        "print(binge_study_list)"
      ],
      "metadata": {
        "id": "c3zEyQ3IIjlO",
        "colab": {
          "base_uri": "https://localhost:8080/"
        },
        "outputId": "1e8748cc-70a8-46fd-ae68-422c1f1ff841"
      },
      "execution_count": 6,
      "outputs": [
        {
          "output_type": "stream",
          "name": "stdout",
          "text": [
            "['Instagram', 'Youtube']\n"
          ]
        }
      ]
    },
    {
      "cell_type": "code",
      "source": [
        "lst = [1,2,[3,4],[5,[100,200,['abcbaburaod']],23,11],1,7]\n",
        "a = lst[3][1][2][0]\n",
        "print(a)"
      ],
      "metadata": {
        "id": "7F-KQrGJFLNv",
        "colab": {
          "base_uri": "https://localhost:8080/"
        },
        "outputId": "67bc123c-b0cf-4ef1-a6ce-af32c38023be"
      },
      "execution_count": 7,
      "outputs": [
        {
          "output_type": "stream",
          "name": "stdout",
          "text": [
            "abcbaburaod\n"
          ]
        }
      ]
    },
    {
      "cell_type": "code",
      "source": [
        "print(a[3:-1])  \n",
        "\n",
        "# Answer ?"
      ],
      "metadata": {
        "id": "QxO1v84TFfDc",
        "colab": {
          "base_uri": "https://localhost:8080/"
        },
        "outputId": "00b51c28-e90c-4854-c8a4-492722e1d2bf"
      },
      "execution_count": 8,
      "outputs": [
        {
          "output_type": "stream",
          "name": "stdout",
          "text": [
            "baburao\n"
          ]
        }
      ]
    },
    {
      "cell_type": "markdown",
      "source": [
        "# Tuples\n",
        "- access items\n",
        "- tuple unpacking\n",
        "- immutability\n"
      ],
      "metadata": {
        "id": "3hKxMptbVrOa"
      }
    },
    {
      "cell_type": "code",
      "source": [
        "my_tup = (1, 'Hello', 0.2, [1, 2, 3])   # can include any datatype\n",
        "\n",
        "# access items\n",
        "my_int = my_tup[0]\n",
        "print(my_int)"
      ],
      "metadata": {
        "id": "2yYwlwPdI30W",
        "colab": {
          "base_uri": "https://localhost:8080/"
        },
        "outputId": "eb471caa-265f-44e3-f0f8-ad4a41767b7b"
      },
      "execution_count": 9,
      "outputs": [
        {
          "output_type": "stream",
          "name": "stdout",
          "text": [
            "1\n"
          ]
        }
      ]
    },
    {
      "cell_type": "code",
      "source": [
        "# Tuple unpacking\n",
        "a, b, c, d = my_tup\n",
        "print(b)\n",
        "print(d)"
      ],
      "metadata": {
        "id": "7K_BrdyNI64D",
        "colab": {
          "base_uri": "https://localhost:8080/"
        },
        "outputId": "0b2f821d-528b-45a5-f0a1-5664ca4ab9c2"
      },
      "execution_count": 10,
      "outputs": [
        {
          "output_type": "stream",
          "name": "stdout",
          "text": [
            "Hello\n",
            "[1, 2, 3]\n"
          ]
        }
      ]
    },
    {
      "cell_type": "code",
      "source": [
        "# tuples are immutable (i.e can't change tuple elements , can't add, can't remove)\n",
        "my_tup[0] = 'a'\n",
        "\n",
        "# this is an 'intended' error"
      ],
      "metadata": {
        "id": "caA6s1y6I_Pu",
        "colab": {
          "base_uri": "https://localhost:8080/",
          "height": 182
        },
        "outputId": "dc4e6d2c-4311-43fe-f2ff-510e460c821c"
      },
      "execution_count": 11,
      "outputs": [
        {
          "output_type": "error",
          "ename": "TypeError",
          "evalue": "ignored",
          "traceback": [
            "\u001b[0;31m---------------------------------------------------------------------------\u001b[0m",
            "\u001b[0;31mTypeError\u001b[0m                                 Traceback (most recent call last)",
            "\u001b[0;32m<ipython-input-11-e11228da2889>\u001b[0m in \u001b[0;36m<module>\u001b[0;34m\u001b[0m\n\u001b[1;32m      1\u001b[0m \u001b[0;31m# tuples are immutable (i.e can't change tuple elements , can't add, can't remove)\u001b[0m\u001b[0;34m\u001b[0m\u001b[0;34m\u001b[0m\u001b[0;34m\u001b[0m\u001b[0m\n\u001b[0;32m----> 2\u001b[0;31m \u001b[0mmy_tup\u001b[0m\u001b[0;34m[\u001b[0m\u001b[0;36m0\u001b[0m\u001b[0;34m]\u001b[0m \u001b[0;34m=\u001b[0m \u001b[0;34m'a'\u001b[0m\u001b[0;34m\u001b[0m\u001b[0;34m\u001b[0m\u001b[0m\n\u001b[0m",
            "\u001b[0;31mTypeError\u001b[0m: 'tuple' object does not support item assignment"
          ]
        }
      ]
    },
    {
      "cell_type": "markdown",
      "source": [
        "## Sets \n",
        "\n"
      ],
      "metadata": {
        "id": "5EzZvv4BV8dC"
      }
    },
    {
      "cell_type": "code",
      "source": [
        "## Sets are defined by unique elements and are unordered\n",
        "# NOTE: Set items are unchangeable, but you can remove items and add new items.\n",
        "\n",
        "s = {3,2,3,1,2,1,2,3,3,2,2,1,1,2}\n",
        "s.add(-1)\n",
        "print(s)"
      ],
      "metadata": {
        "id": "yfQdvuVBJCg8",
        "colab": {
          "base_uri": "https://localhost:8080/"
        },
        "outputId": "dcc6fb3d-e7f4-4939-e112-1e4f1e7fe8ea"
      },
      "execution_count": 12,
      "outputs": [
        {
          "output_type": "stream",
          "name": "stdout",
          "text": [
            "{1, 2, 3, -1}\n"
          ]
        }
      ]
    },
    {
      "cell_type": "markdown",
      "source": [
        "# Functions "
      ],
      "metadata": {
        "id": "1YpGmjRtWBCB"
      }
    },
    {
      "cell_type": "code",
      "source": [
        "# Functions: \n",
        "# Python documentation strings (or docstrings) provide a convenient way of associating documentation with Python modules, functions\n",
        "def findCrush(str):\n",
        "    \" Function to find 'her' in a string. \"                   # docstrings describing what the function does (a good practice) \n",
        "    if 'her' in str:\n",
        "        return True\n",
        "\n",
        "if(findCrush('Is she here in ALH-1?')):\n",
        "  print(\"Found her!\")"
      ],
      "metadata": {
        "id": "N3pTR78gFqVN",
        "colab": {
          "base_uri": "https://localhost:8080/"
        },
        "outputId": "edfa9a57-3e89-45cc-cf62-affef203ccea"
      },
      "execution_count": 13,
      "outputs": [
        {
          "output_type": "stream",
          "name": "stdout",
          "text": [
            "Found her!\n"
          ]
        }
      ]
    },
    {
      "cell_type": "markdown",
      "source": [
        "\n",
        "\n",
        " # Lists Vs Numpy\n",
        "\n",
        "\n",
        "*   Initialization\n",
        "*   Indexing\n",
        "*   Slicing\n",
        "*   Memory\n",
        "*   Time Consumption\n",
        "*   Few direct operations numpy can handle\n",
        "\n",
        "\n"
      ],
      "metadata": {
        "id": "h5a3O27HgefH"
      }
    },
    {
      "cell_type": "markdown",
      "source": [
        "Initialization:\n",
        "We can initialize a numpy array using a list"
      ],
      "metadata": {
        "id": "pfYkf0AI3O-o"
      }
    },
    {
      "cell_type": "code",
      "source": [
        "# A Python list\n",
        "my_list = [1,2,3,4,5,6,7,8]\n",
        "# A numpy array that contains items of the same type\n",
        "my_numpy_array = np.array([1,2,3,4,5,6,7,8])\n",
        "\n",
        "#printing the list\n",
        "print(\"List:\",my_list)\n",
        "\n",
        "#printing the numpy array\n",
        "print(\"Numpy_array:\",my_numpy_array)"
      ],
      "metadata": {
        "id": "cmHKPPvthsZ-",
        "colab": {
          "base_uri": "https://localhost:8080/"
        },
        "outputId": "30eb3192-dcd2-4a06-faf1-b58eee2bb0be"
      },
      "execution_count": 14,
      "outputs": [
        {
          "output_type": "stream",
          "name": "stdout",
          "text": [
            "List: [1, 2, 3, 4, 5, 6, 7, 8]\n",
            "Numpy_array: [1 2 3 4 5 6 7 8]\n"
          ]
        }
      ]
    },
    {
      "cell_type": "code",
      "source": [
        "# Both list and numpy are mutable\n",
        "my_list[7] = 9\n",
        "my_numpy_array[7]  = 10\n",
        "\n",
        "print(\"List:\",my_list)\n",
        "print(\"Numpy_array:\",my_numpy_array)\n"
      ],
      "metadata": {
        "id": "dQNg418IfjIN",
        "colab": {
          "base_uri": "https://localhost:8080/"
        },
        "outputId": "8efb9bf3-6d13-4ec6-abf9-aa6cc726a7a6"
      },
      "execution_count": 15,
      "outputs": [
        {
          "output_type": "stream",
          "name": "stdout",
          "text": [
            "List: [1, 2, 3, 4, 5, 6, 7, 9]\n",
            "Numpy_array: [ 1  2  3  4  5  6  7 10]\n"
          ]
        }
      ]
    },
    {
      "cell_type": "code",
      "source": [
        "#Both can be indexed and can be used for slicing operations\n",
        "# accessing an element in an array through their index\n",
        "\n",
        "l = my_list[3]\n",
        "print(\"The fourth element(Numpy Array)\",l)\n",
        "n = my_numpy_array[4]\n",
        "print(\"The fifth element(Numpy Array)\",n)\n",
        "\n",
        "#Slicing operations\n",
        "\n",
        "l_s = my_list[:4]\n",
        "print(\"After the slicing operation(List):\",l_s)\n",
        "n_s = my_numpy_array[:4]\n",
        "\n",
        "\n",
        "print(\"After the slicing operation(Numpy_array):\",n_s)\n"
      ],
      "metadata": {
        "id": "wrpX5AirgHjO",
        "colab": {
          "base_uri": "https://localhost:8080/"
        },
        "outputId": "d865de85-4297-497f-f845-883333ad2ccc"
      },
      "execution_count": 16,
      "outputs": [
        {
          "output_type": "stream",
          "name": "stdout",
          "text": [
            "The fourth element(Numpy Array) 4\n",
            "The fifth element(Numpy Array) 5\n",
            "After the slicing operation(List): [1, 2, 3, 4]\n",
            "After the slicing operation(Numpy_array): [1 2 3 4]\n"
          ]
        }
      ]
    },
    {
      "cell_type": "code",
      "source": [
        "# Memory consumption o# Memory consumption of list and array\n",
        "list_memory = sys.getsizeof(my_list)\n",
        "print(\"Memory(in bytes) list consumes:\",list_memory )\n",
        "numpy_arr_memory = my_numpy_array.itemsize\n",
        "print(\"Memory(in bytes) NumPy array consumes:\",numpy_arr_memory )\n",
        "print(\"List consumes\", list_memory /numpy_arr_memory ,\"times memory than a numpy array of same size\")"
      ],
      "metadata": {
        "id": "LzKjFuFTgIma",
        "colab": {
          "base_uri": "https://localhost:8080/"
        },
        "outputId": "0fe62309-5616-4deb-e1d2-c835cfa617ef"
      },
      "execution_count": 17,
      "outputs": [
        {
          "output_type": "stream",
          "name": "stdout",
          "text": [
            "Memory(in bytes) list consumes: 120\n",
            "Memory(in bytes) NumPy array consumes: 8\n",
            "List consumes 15.0 times memory than a numpy array of same size\n"
          ]
        }
      ]
    },
    {
      "cell_type": "code",
      "source": [
        "# Mathematical operations numpy can handle directly while lists cannot\n",
        "#List\n",
        "list_add = [i for i in range(10000)]\n",
        "\n",
        "start = time.time()\n",
        "list_add = [i+3 for i in list_add]\n",
        "end = time.time()\n",
        "\n",
        "t_add_list = end-start\n",
        "\n",
        "\n",
        "#Numpy_array\n",
        "my_numpy_add = np.array([i for i in range(10000)])\n",
        "\n",
        "start = time.time()\n",
        "my_numpy_add = my_numpy_add + 3\n",
        "end = time.time()\n",
        "\n",
        "t_add_np = end-start\n",
        "\n",
        "print(\"List after adding 3:\",list_add[:5])\n",
        "print(\"Numpy after adding 3:\",my_numpy_add[:5])\n",
        "\n",
        "#Time consumption\n",
        "print(\"Comparing the time consumed by lits and numpy arrays for addition operation\")\n",
        "print(\"Lists:\",t_add_list ,\"Numpy_Array\",t_add_np)\n",
        "print(\"Numpy arrays are\",int(t_add_list/t_add_np),\"times faster\")\n",
        "\n"
      ],
      "metadata": {
        "id": "LX291fvagYA2",
        "colab": {
          "base_uri": "https://localhost:8080/"
        },
        "outputId": "1aacb07b-36c7-43f7-97ba-e225b891ee90"
      },
      "execution_count": 19,
      "outputs": [
        {
          "output_type": "stream",
          "name": "stdout",
          "text": [
            "List after adding 3: [3, 4, 5, 6, 7]\n",
            "Numpy after adding 3: [3 4 5 6 7]\n",
            "Comparing the time consumed by lits and numpy arrays for addition operation\n",
            "Lists: 0.0014748573303222656 Numpy_Array 0.00013756752014160156\n",
            "Numpy arrays are 10 times faster\n"
          ]
        }
      ]
    },
    {
      "cell_type": "markdown",
      "source": [
        "## Mathematical Functions in Numpy"
      ],
      "metadata": {
        "id": "_wFX0y7Nkgyf"
      }
    },
    {
      "cell_type": "markdown",
      "source": [
        " Trigonometric functions"
      ],
      "metadata": {
        "id": "HApYEd4ttb1m"
      }
    },
    {
      "cell_type": "code",
      "source": [
        "a=np.linspace(0,10)\n",
        "sin=np.sin(a)\n",
        "cos=np.cos(a)\n",
        "\n",
        "plt.plot(a,sin)\n",
        "plt.plot(a,cos)\n",
        "plt.show()"
      ],
      "metadata": {
        "id": "ILtGYAKBkybk",
        "colab": {
          "base_uri": "https://localhost:8080/",
          "height": 265
        },
        "outputId": "9568db77-e74d-4fc0-ea4f-9a9d25b9247c"
      },
      "execution_count": 20,
      "outputs": [
        {
          "output_type": "display_data",
          "data": {
            "text/plain": [
              "<Figure size 432x288 with 1 Axes>"
            ],
            "image/png": "[encoded data removed]"
          },
          "metadata": {
            "needs_background": "light"
          }
        }
      ]
    },
    {
      "cell_type": "code",
      "source": [
        "a=np.linspace(-1,1)\n",
        "arcsin=np.arcsin(a)\n",
        "arccos=np.arccos(a)\n",
        "\n",
        "plt.plot(a,arcsin)\n",
        "plt.plot(a,arccos)\n",
        "plt.show()"
      ],
      "metadata": {
        "id": "1VSP_YaoIESu",
        "colab": {
          "base_uri": "https://localhost:8080/",
          "height": 265
        },
        "outputId": "d4822148-afb6-4c90-e855-b99c813e5b15"
      },
      "execution_count": 21,
      "outputs": [
        {
          "output_type": "display_data",
          "data": {
            "text/plain": [
              "<Figure size 432x288 with 1 Axes>"
            ],
            "image/png": "[encoded data removed]"
          },
          "metadata": {
            "needs_background": "light"
          }
        }
      ]
    },
    {
      "cell_type": "code",
      "source": [
        "a=np.linspace(-3,3)\n",
        "sinh=np.sinh(a)\n",
        "cosh=np.cosh(a)\n",
        "\n",
        "plt.plot(a,sinh)\n",
        "plt.plot(a,cosh)\n",
        "plt.show()"
      ],
      "metadata": {
        "id": "G8CZ63SyJWUH",
        "colab": {
          "base_uri": "https://localhost:8080/",
          "height": 265
        },
        "outputId": "e58bc877-c02e-4a86-dbe3-b0bf510e6903"
      },
      "execution_count": 22,
      "outputs": [
        {
          "output_type": "display_data",
          "data": {
            "text/plain": [
              "<Figure size 432x288 with 1 Axes>"
            ],
            "image/png": "[encoded data removed]"
          },
          "metadata": {
            "needs_background": "light"
          }
        }
      ]
    },
    {
      "cell_type": "code",
      "source": [
        "pi=3.14159265358\n",
        "print(np.degrees(2*pi))\n",
        "print(np.radians(360))"
      ],
      "metadata": {
        "id": "nkLeBxr8Kc8E",
        "colab": {
          "base_uri": "https://localhost:8080/"
        },
        "outputId": "9bf7fcc8-e18b-4b03-914d-9364c8e85496"
      },
      "execution_count": 23,
      "outputs": [
        {
          "output_type": "stream",
          "name": "stdout",
          "text": [
            "359.9999999988778\n",
            "6.283185307179586\n"
          ]
        }
      ]
    },
    {
      "cell_type": "code",
      "source": [
        "e=2.71828\n",
        "print(np.log(e**10))\n",
        "print(np.log2(4096))"
      ],
      "metadata": {
        "id": "N1cB0TVWMj0Y",
        "colab": {
          "base_uri": "https://localhost:8080/"
        },
        "outputId": "d0321fb6-45df-4f12-8eda-954afdfb1c0f"
      },
      "execution_count": 24,
      "outputs": [
        {
          "output_type": "stream",
          "name": "stdout",
          "text": [
            "9.99999327347282\n",
            "12.0\n"
          ]
        }
      ]
    },
    {
      "cell_type": "code",
      "source": [
        "print(np.exp(3))\n",
        "print(np.exp2(5))"
      ],
      "metadata": {
        "id": "dYZjI2JvM6Sx",
        "colab": {
          "base_uri": "https://localhost:8080/"
        },
        "outputId": "671b56f4-fb4b-4270-b5a1-686f593f620a"
      },
      "execution_count": 25,
      "outputs": [
        {
          "output_type": "stream",
          "name": "stdout",
          "text": [
            "20.085536923187668\n",
            "32.0\n"
          ]
        }
      ]
    },
    {
      "cell_type": "code",
      "source": [
        "a=1234.56789\n",
        "print(np.around(a,3))\n",
        "print(np.floor(a))\n",
        "print(np.ceil(a))"
      ],
      "metadata": {
        "id": "UJF0T3TcNRL7",
        "colab": {
          "base_uri": "https://localhost:8080/"
        },
        "outputId": "7a8147e9-827b-4125-ad27-7e86e2536344"
      },
      "execution_count": 26,
      "outputs": [
        {
          "output_type": "stream",
          "name": "stdout",
          "text": [
            "1234.568\n",
            "1234.0\n",
            "1235.0\n"
          ]
        }
      ]
    },
    {
      "cell_type": "code",
      "source": [
        "print(np.mod(25,11))\n",
        "print(np.mod(45,4))"
      ],
      "metadata": {
        "id": "UhoMpoP3wVuf",
        "colab": {
          "base_uri": "https://localhost:8080/"
        },
        "outputId": "b3b04ded-3a8c-4534-c438-113bbc9566ad"
      },
      "execution_count": 27,
      "outputs": [
        {
          "output_type": "stream",
          "name": "stdout",
          "text": [
            "3\n",
            "1\n"
          ]
        }
      ]
    },
    {
      "cell_type": "code",
      "source": [
        "a=[1,2,3,4,5]\n",
        "b=[1,2,3,4,5]\n",
        "\n",
        "print(np.add(a,b))\n",
        "print(np.subtract(a,b))\n",
        "print(np.multiply(a,b))\n",
        "print(np.divide(a,b))"
      ],
      "metadata": {
        "id": "Nf0yqrQFvZpr",
        "colab": {
          "base_uri": "https://localhost:8080/"
        },
        "outputId": "fb2bd50c-0776-449d-ea65-facd571268f0"
      },
      "execution_count": 28,
      "outputs": [
        {
          "output_type": "stream",
          "name": "stdout",
          "text": [
            "[ 2  4  6  8 10]\n",
            "[0 0 0 0 0]\n",
            "[ 1  4  9 16 25]\n",
            "[1. 1. 1. 1. 1.]\n"
          ]
        }
      ]
    },
    {
      "cell_type": "code",
      "source": [
        "a=1234 + 56789j\n",
        "print(np.conj(a))\n",
        "print(np.isreal(a))\n"
      ],
      "metadata": {
        "id": "efH1OD1WtR7F",
        "colab": {
          "base_uri": "https://localhost:8080/"
        },
        "outputId": "d4d094af-2757-410b-9171-2a109df4f0d6"
      },
      "execution_count": 29,
      "outputs": [
        {
          "output_type": "stream",
          "name": "stdout",
          "text": [
            "(1234-56789j)\n",
            "False\n"
          ]
        }
      ]
    },
    {
      "cell_type": "code",
      "source": [
        "a=np.array([1,3,2,4,6,5])\n",
        "b=np.array([6,5,3,4,2,1])\n",
        "print(np.minimum(a,b))\n",
        "print(np.maximum(a,b))"
      ],
      "metadata": {
        "id": "9lDJA3ZhOdNW",
        "colab": {
          "base_uri": "https://localhost:8080/"
        },
        "outputId": "acdc617f-acab-4220-df35-8a1fa2ed82b2"
      },
      "execution_count": 30,
      "outputs": [
        {
          "output_type": "stream",
          "name": "stdout",
          "text": [
            "[1 3 2 4 2 1]\n",
            "[6 5 3 4 6 5]\n"
          ]
        }
      ]
    },
    {
      "cell_type": "code",
      "source": [
        "a= -1\n",
        "print(np.cbrt(a))"
      ],
      "metadata": {
        "id": "ruC_456-Sqq-",
        "colab": {
          "base_uri": "https://localhost:8080/"
        },
        "outputId": "72941d20-1a5e-4594-df45-a694e879cd6b"
      },
      "execution_count": 31,
      "outputs": [
        {
          "output_type": "stream",
          "name": "stdout",
          "text": [
            "-1.0\n"
          ]
        }
      ]
    },
    {
      "cell_type": "code",
      "source": [
        "a= -1\n",
        "print(a**(1/3))"
      ],
      "metadata": {
        "id": "fH_qq1x4TCzO",
        "colab": {
          "base_uri": "https://localhost:8080/"
        },
        "outputId": "321013d6-0767-443b-a03b-95ef9b8b43c3"
      },
      "execution_count": 32,
      "outputs": [
        {
          "output_type": "stream",
          "name": "stdout",
          "text": [
            "(0.5000000000000001+0.8660254037844386j)\n"
          ]
        }
      ]
    },
    {
      "cell_type": "code",
      "source": [
        "x=np.linspace(1,10)\n",
        "\n",
        "y=np.log2(x)\n",
        "\n",
        "plt.plot(x,y)\n",
        "plt.show()"
      ],
      "metadata": {
        "id": "nmWIWA_ClzKC",
        "colab": {
          "base_uri": "https://localhost:8080/",
          "height": 265
        },
        "outputId": "dad6d7c6-36f2-48b7-9bfd-992e64fb81b7"
      },
      "execution_count": 33,
      "outputs": [
        {
          "output_type": "display_data",
          "data": {
            "text/plain": [
              "<Figure size 432x288 with 1 Axes>"
            ],
            "image/png": "[encoded data removed]"
          },
          "metadata": {
            "needs_background": "light"
          }
        }
      ]
    },
    {
      "cell_type": "code",
      "source": [
        "a=np.array([1,3,2,4,6,5,3,7,8,6,9,0])\n",
        "b=np.array([6,5,3,4,2,1,6,7,3,2,4,1])\n",
        "print(np.where(a>2*b,a,b))\n",
        "print(np.where(a>2*b,b,a))\n",
        "print(np.where(a+1>b,a,b))"
      ],
      "metadata": {
        "id": "QA4qNuraQ7KJ",
        "colab": {
          "base_uri": "https://localhost:8080/"
        },
        "outputId": "c328a73b-f0cb-4168-ffd4-e3bd54c3f8de"
      },
      "execution_count": 34,
      "outputs": [
        {
          "output_type": "stream",
          "name": "stdout",
          "text": [
            "[6 5 3 4 6 5 6 7 8 6 9 1]\n",
            "[1 3 2 4 2 1 3 7 3 2 4 0]\n",
            "[6 5 3 4 6 5 6 7 8 6 9 1]\n"
          ]
        }
      ]
    },
    {
      "cell_type": "code",
      "source": [
        "a=np.linspace(0,10,20)\n",
        "grad=np.gradient(np.sin(a),a)\n",
        "\n",
        "real=np.cos(a)\n",
        "\n",
        "diff=np.absolute(grad-real)\n",
        "\n",
        "plt.plot(a,grad,\"blue\")\n",
        "plt.plot(a,real,\"red\")\n",
        "plt.show()"
      ],
      "metadata": {
        "id": "hc6_NW8elGEP",
        "colab": {
          "base_uri": "https://localhost:8080/",
          "height": 265
        },
        "outputId": "280379c0-a193-4925-c86b-1eb667f05b26"
      },
      "execution_count": 35,
      "outputs": [
        {
          "output_type": "display_data",
          "data": {
            "text/plain": [
              "<Figure size 432x288 with 1 Axes>"
            ],
            "image/png": "[encoded data removed]"
          },
          "metadata": {
            "needs_background": "light"
          }
        }
      ]
    },
    {
      "cell_type": "markdown",
      "source": [
        "\n",
        "\n",
        "## Random Numbers\n",
        "\n",
        "\n",
        "*   np.random.rand() : Generates random values in a given shape from a uniform distribution\n",
        "*   np.random.randn() : Generates random numbers sample from a “standard normal” distribution.\n",
        "\n",
        "*   np.random.randint() : Generates random integer values\n",
        "*   np.random.choice() : Make random choices from a list/array\n",
        "*   np.arange() : Allows you to define the step size and infers the number of steps\n",
        "* np.linspace() : It allows you to define how many values you get including the specified min and max value\n",
        "*   np.shuffle() : Modify a sequence in-place by shuffling its contents.\n",
        "* np.random.normal() : Generates random numbers sample from a \"normal\" distribution.\n",
        "\n",
        "\n",
        "\n",
        "\n"
      ],
      "metadata": {
        "id": "NyPhKvjzpkGZ"
      }
    },
    {
      "cell_type": "markdown",
      "source": [
        "## np.random.rand(shape)"
      ],
      "metadata": {
        "id": "y0RIFR6qcTu3"
      }
    },
    {
      "cell_type": "code",
      "source": [
        "# Lets initiate some randomness\n",
        "# np.random.rand() generates a random number between 0 and 1\n",
        "a=np.random.rand()  \n",
        "print(\"The random number generated is: \",a)"
      ],
      "metadata": {
        "id": "X68emi1Bph4Y",
        "colab": {
          "base_uri": "https://localhost:8080/"
        },
        "outputId": "549b11bb-2cc2-4edd-9cdb-bfed0141cbe2"
      },
      "execution_count": 36,
      "outputs": [
        {
          "output_type": "stream",
          "name": "stdout",
          "text": [
            "The random number generated is:  0.6519712441236799\n"
          ]
        }
      ]
    },
    {
      "cell_type": "code",
      "source": [
        "# Lets initiate more randomness\n",
        "\n",
        "a = np.random.rand(5)  # Generates an array of 5 elements with random numbers between 0 and 1\n",
        "print(\"The random numbers generated are: \")\n",
        "print(a)\n",
        "a = np.random.rand(5,2)  # # Generates an array of size 5x2 with random numbers between 0 and 1\n",
        "print(\"The random array generated is: \")\n",
        "print(a)"
      ],
      "metadata": {
        "id": "E0-MXaEEdlp8",
        "colab": {
          "base_uri": "https://localhost:8080/"
        },
        "outputId": "30790419-2161-4dd4-9648-414d61319384"
      },
      "execution_count": 37,
      "outputs": [
        {
          "output_type": "stream",
          "name": "stdout",
          "text": [
            "The random numbers generated are: \n",
            "[0.85147335 0.36208503 0.2616889  0.39949261 0.62314633]\n",
            "The random array generated is: \n",
            "[[0.83230723 0.57214589]\n",
            " [0.46189317 0.98255675]\n",
            " [0.68754498 0.16165197]\n",
            " [0.85082468 0.18753742]\n",
            " [0.9055204  0.40931999]]\n"
          ]
        }
      ]
    },
    {
      "cell_type": "markdown",
      "source": [
        "## np.random.randn(shape)"
      ],
      "metadata": {
        "id": "LI_Bw3HtsvMQ"
      }
    },
    {
      "cell_type": "code",
      "source": [
        "# What is missing??\n",
        "# - No negative numbers !!\n",
        "# Yes, but numpy even got that sorted for you XDXDXD !!\n",
        "\n",
        "a=np.random.randn(2,2)  # It Generated random numbers between -1 and 1\n",
        "print(\"The random array generated is: \")\n",
        "print(a)"
      ],
      "metadata": {
        "id": "zdspbOW0eSBj",
        "colab": {
          "base_uri": "https://localhost:8080/"
        },
        "outputId": "2115691c-af1d-454d-b26d-9773e370f125"
      },
      "execution_count": 38,
      "outputs": [
        {
          "output_type": "stream",
          "name": "stdout",
          "text": [
            "The random array generated is: \n",
            "[[-0.9129929  -1.17185508]\n",
            " [-0.25711953 -0.90977054]]\n"
          ]
        }
      ]
    },
    {
      "cell_type": "markdown",
      "source": [
        "## np.random.randint(start=0, end, num)"
      ],
      "metadata": {
        "id": "zRsnxIRbsy9D"
      }
    },
    {
      "cell_type": "code",
      "source": [
        "# But, what if you only want integer numbers\n",
        "# Numpy - Hold my beer !\n",
        "\n",
        "a=np.random.randint(5, size=10)  # It generates random integer from [0,5), and size defines the number of\n",
        "                                 # random numbers you wanted to generate\n",
        "print(a)"
      ],
      "metadata": {
        "id": "InabvllQehSZ",
        "colab": {
          "base_uri": "https://localhost:8080/"
        },
        "outputId": "4d297637-9a15-4b6f-8b1e-9213eda4d6af"
      },
      "execution_count": 39,
      "outputs": [
        {
          "output_type": "stream",
          "name": "stdout",
          "text": [
            "[4 0 2 4 3 4 3 2 2 2]\n"
          ]
        }
      ]
    },
    {
      "cell_type": "markdown",
      "source": [
        "## np.random.choice(x, size = None, replace = True, p = None)"
      ],
      "metadata": {
        "id": "bUmDO6gYs2Bq"
      }
    },
    {
      "cell_type": "code",
      "source": [
        "# Aj ho jaye faisla\n",
        "# Who is the real GOAT -> Messi or Ronaldo\n",
        "# Lets put an end to this debate\n",
        "\n",
        "the_real_GOAT = [\"Messi\",\"Ronaldo\"]\n",
        "a=np.random.choice(the_real_GOAT)  # Randomly choose one element from the list provided\n",
        "print(a)"
      ],
      "metadata": {
        "id": "sb6f1577fJg8",
        "colab": {
          "base_uri": "https://localhost:8080/"
        },
        "outputId": "c52e8e01-fddc-4831-f0c3-8cb4a7ebeac9"
      },
      "execution_count": 45,
      "outputs": [
        {
          "output_type": "stream",
          "name": "stdout",
          "text": [
            "Messi\n"
          ]
        }
      ]
    },
    {
      "cell_type": "code",
      "source": [
        "# Time for the cricket fans :D\n",
        "\n",
        "the_real_GOAT2 = [\"Sachin\", \"Virat\", \"Dhoni\"]\n",
        "a=np.random.choice(the_real_GOAT2)  \n",
        "print(a)"
      ],
      "metadata": {
        "id": "VLm2yE6afqN2",
        "colab": {
          "base_uri": "https://localhost:8080/"
        },
        "outputId": "f68cf662-0a33-475f-80bb-c0e53ee4bbfc"
      },
      "execution_count": 46,
      "outputs": [
        {
          "output_type": "stream",
          "name": "stdout",
          "text": [
            "Virat\n"
          ]
        }
      ]
    },
    {
      "cell_type": "code",
      "source": [
        "# What if you know Messi is the best??\n",
        "\n",
        "a=np.random.choice(the_real_GOAT, p = [1,0])  # Here, p defines the probabilty of picking the corresponding element in the list\n",
        "print(a)"
      ],
      "metadata": {
        "id": "GqL5F-nXf1jf",
        "colab": {
          "base_uri": "https://localhost:8080/"
        },
        "outputId": "cc051c59-9291-4286-be0f-4544e4abd34e"
      },
      "execution_count": 42,
      "outputs": [
        {
          "output_type": "stream",
          "name": "stdout",
          "text": [
            "Messi\n"
          ]
        }
      ]
    },
    {
      "cell_type": "code",
      "source": [
        "# Fun exercise -> make your favourite cricketer the real GOAT with 100% probability\n",
        "a  = np.random.choice(the_real_GOAT, p = []) # Fill the probability list\n",
        "print(a)"
      ],
      "metadata": {
        "id": "VW3crDph2r4P"
      },
      "execution_count": null,
      "outputs": []
    },
    {
      "cell_type": "markdown",
      "source": [
        "## np.arange(start=0, end, step)"
      ],
      "metadata": {
        "id": "L14G78BRs7WK"
      }
    },
    {
      "cell_type": "code",
      "source": [
        "# Return evenly spaced values within a given interval\n",
        "a=np.arange(12)  \n",
        "print(a)"
      ],
      "metadata": {
        "id": "YtPwc_PdgI5w",
        "colab": {
          "base_uri": "https://localhost:8080/"
        },
        "outputId": "540e447b-032c-46ad-cb78-fb97bd0af1d1"
      },
      "execution_count": 49,
      "outputs": [
        {
          "output_type": "stream",
          "name": "stdout",
          "text": [
            "[ 0  1  2  3  4  5  6  7  8  9 10 11]\n"
          ]
        }
      ]
    },
    {
      "cell_type": "markdown",
      "source": [
        "## np.linspace(start, end, num)"
      ],
      "metadata": {
        "id": "pkk6Xnivs-Mh"
      }
    },
    {
      "cell_type": "code",
      "source": [
        "# 10 linearly spaced numbers\n",
        "x = np.linspace(1,10,10)\n",
        "print(x)"
      ],
      "metadata": {
        "id": "-2_xlBrRjamc",
        "colab": {
          "base_uri": "https://localhost:8080/"
        },
        "outputId": "37fc1aae-c67e-4f34-b1a3-ecc7b7c2a592"
      },
      "execution_count": 50,
      "outputs": [
        {
          "output_type": "stream",
          "name": "stdout",
          "text": [
            "[ 1.  2.  3.  4.  5.  6.  7.  8.  9. 10.]\n"
          ]
        }
      ]
    },
    {
      "cell_type": "markdown",
      "source": [
        "## np.random.shuffle(x)"
      ],
      "metadata": {
        "id": "gngI3t2EtAo1"
      }
    },
    {
      "cell_type": "code",
      "source": [
        "# Shuffle the given array for you\n",
        "np.random.shuffle(a)  \n",
        "print(a)"
      ],
      "metadata": {
        "id": "_2gEmV4wgMEF",
        "colab": {
          "base_uri": "https://localhost:8080/"
        },
        "outputId": "2c4cde1b-0151-486e-cff3-d1ebf407a669"
      },
      "execution_count": 51,
      "outputs": [
        {
          "output_type": "stream",
          "name": "stdout",
          "text": [
            "[ 0  3  6  2  5 11  7  4  8 10  9  1]\n"
          ]
        }
      ]
    },
    {
      "cell_type": "markdown",
      "source": [
        "## np.random.normal(loc = 0.0, scale = 1.0, size = None)"
      ],
      "metadata": {
        "id": "bdorg8TFuv9X"
      }
    },
    {
      "cell_type": "code",
      "source": [
        "# Randomly generate a number from a normal distribution\n",
        "a = np.random.normal(0,0.2) # Here mu = 0 and variance = 0.2\n",
        "print(\"The random number generated using normal distribution is : \", a)"
      ],
      "metadata": {
        "id": "NAogcFcPhB1m",
        "colab": {
          "base_uri": "https://localhost:8080/"
        },
        "outputId": "e23d9b06-4939-4733-943b-0d610e4c689c"
      },
      "execution_count": 52,
      "outputs": [
        {
          "output_type": "stream",
          "name": "stdout",
          "text": [
            "The random number generated using normal distribution is :  0.18806782815908052\n"
          ]
        }
      ]
    },
    {
      "cell_type": "markdown",
      "source": [
        "## Plotting\n",
        "\n",
        "*   plt.hist() -> Used for plotting histogram\n",
        "*   plt.bar() -> Used for plotting bar plot\n",
        "*   plt.plot() -> Used for plotting line plot\n",
        "*   plt.scatter() -> Used for plotting scatter plot\n",
        "\n"
      ],
      "metadata": {
        "id": "lfKFa6yxr-I0"
      }
    },
    {
      "cell_type": "markdown",
      "source": [
        "## plt.hist(x, bins, density)"
      ],
      "metadata": {
        "id": "KYPgyUCH6N33"
      }
    },
    {
      "cell_type": "code",
      "source": [
        "mu, sigma = 0, 0.2 # mean and standard deviation  \n",
        "s1 = np.random.normal(mu, sigma, 10000)  # Generating 10000 datapoints  \n",
        "count, bins, _ = plt.hist(s1, 100, density=True) # Plotting the histogram of the distribution with 100 bins\n",
        "plt.plot(bins, 1/(sigma * np.sqrt(2 * np.pi)) *np.exp( - (bins - mu)**2 / (2 * sigma**2) ), linewidth=2, color='r')  \n",
        "plt.show()  "
      ],
      "metadata": {
        "id": "6_piFLDJgyZq",
        "colab": {
          "base_uri": "https://localhost:8080/",
          "height": 265
        },
        "outputId": "f44a5195-6043-49b7-dbbb-cd2c1a9ae478"
      },
      "execution_count": 53,
      "outputs": [
        {
          "output_type": "display_data",
          "data": {
            "text/plain": [
              "<Figure size 432x288 with 1 Axes>"
            ],
            "image/png": "[encoded data removed]"
          },
          "metadata": {
            "needs_background": "light"
          }
        }
      ]
    },
    {
      "cell_type": "markdown",
      "source": [
        "## plt.bar(x, height, width=0.8, align='center')\n"
      ],
      "metadata": {
        "id": "op1I4tEo5GwX"
      }
    },
    {
      "cell_type": "code",
      "source": [
        "# Generating the f(x) -> Scores of Virat Kholi in last 6 ODIs\n",
        "Virat_score = [113, 4, 166, 8, 11, 36]\n",
        "# Generating the x-axis points using linspace\n",
        "x = np.linspace(1,6,6)\n",
        "# Plotting the bar graph\n",
        "plt.bar(x, Virat_score)\n",
        "\n",
        "# Refining the graph\n",
        "plt.title(\"Virat scores\")  # Give a title to the graph\n",
        "plt.xlabel(\"ODI innings\") # Give a label to the x axis\n",
        "plt.ylabel(\"Score\") # Give a label to the y axis\n",
        "plt.show() # Command to show the plot"
      ],
      "metadata": {
        "id": "k0H-dlwn4Dfn",
        "colab": {
          "base_uri": "https://localhost:8080/",
          "height": 295
        },
        "outputId": "b1d48391-2d73-4a59-9e38-4c9566fcdd7b"
      },
      "execution_count": 54,
      "outputs": [
        {
          "output_type": "display_data",
          "data": {
            "text/plain": [
              "<Figure size 432x288 with 1 Axes>"
            ],
            "image/png": "[encoded data removed]"
          },
          "metadata": {
            "needs_background": "light"
          }
        }
      ]
    },
    {
      "cell_type": "markdown",
      "source": [
        "## Plt.plot(x, y, color, marker, linestyle, linewidth, label)"
      ],
      "metadata": {
        "id": "uKgp07Ch_cLy"
      }
    },
    {
      "cell_type": "code",
      "source": [
        "# Line plot function\n",
        "plt.plot(x, Virat_score)\n",
        "\n",
        "# Refining the graph\n",
        "plt.title(\"Virat scores\")\n",
        "plt.xlabel(\"ODI innings\")\n",
        "plt.ylabel(\"Score\")\n",
        "plt.grid() # Show gridlines\n",
        "plt.show()"
      ],
      "metadata": {
        "id": "EzVDT5wf6yZ9",
        "colab": {
          "base_uri": "https://localhost:8080/",
          "height": 295
        },
        "outputId": "d04be60b-1d22-4856-ed75-35b7b2111c5b"
      },
      "execution_count": 55,
      "outputs": [
        {
          "output_type": "display_data",
          "data": {
            "text/plain": [
              "<Figure size 432x288 with 1 Axes>"
            ],
            "image/png": "[encoded data removed]"
          },
          "metadata": {
            "needs_background": "light"
          }
        }
      ]
    },
    {
      "cell_type": "markdown",
      "source": [
        "## Mutiple plots in a single figure"
      ],
      "metadata": {
        "id": "29RNuM-HAET8"
      }
    },
    {
      "cell_type": "code",
      "source": [
        "# f(x) -> Scores of Shubham Gill in last 6 ODIs\n",
        "Gill_score = [70, 21, 116, 208, 40, 112]\n",
        "\n",
        "# Line plot for Virat's score\n",
        "plt.plot(x, Virat_score, color = \"blue\", marker = \"o\", linestyle = \"-\", label = \"Virat\")\n",
        "# Line plot for Gill's score\n",
        "plt.plot(x,Gill_score, color = \"red\", marker = \"x\", linestyle = \"--\", label = \"Gill\")\n",
        "\n",
        "# Refining the graph\n",
        "plt.title(\"Virat vs Gill scores\")\n",
        "plt.xlabel(\"ODI innings\")\n",
        "plt.ylabel(\"Score\")\n",
        "plt.legend()  # Plot the legend box\n",
        "plt.grid()\n",
        "plt.show()"
      ],
      "metadata": {
        "id": "w3juMr6O7C6q",
        "colab": {
          "base_uri": "https://localhost:8080/",
          "height": 295
        },
        "outputId": "4ae71c39-8d9d-4224-a584-570cc8a2da4a"
      },
      "execution_count": 56,
      "outputs": [
        {
          "output_type": "display_data",
          "data": {
            "text/plain": [
              "<Figure size 432x288 with 1 Axes>"
            ],
            "image/png": "[encoded data removed]"
          },
          "metadata": {
            "needs_background": "light"
          }
        }
      ]
    },
    {
      "cell_type": "markdown",
      "source": [
        "## Fun Exercise"
      ],
      "metadata": {
        "id": "MuGXkQpsALXJ"
      }
    },
    {
      "cell_type": "code",
      "source": [
        "# Plot the bar graph of Gill score\n",
        "# Fill in the blank\n",
        "plt.bar(x, ______)\n",
        "\n",
        "# Refining the graph\n",
        "plt.title(\"Gill scores\")\n",
        "plt.xlabel(\"ODI innings\")\n",
        "plt.ylabel(\"Score\")\n",
        "plt.show()"
      ],
      "metadata": {
        "id": "DSGFQh8C24jT"
      },
      "execution_count": null,
      "outputs": []
    },
    {
      "cell_type": "markdown",
      "source": [
        "## plt.scatter(x,y, marker, color)"
      ],
      "metadata": {
        "id": "L4r0eboZAWvi"
      }
    },
    {
      "cell_type": "code",
      "source": [
        "# Initialize (x,y) with random numbers\n",
        "x_coord = np.random.rand(100)\n",
        "y_coord = np.random.rand(100)\n",
        "\n",
        "# Initialize (x1,y1) with random numbers\n",
        "x1_coord = np.random.rand(100)\n",
        "y1_coord = np.random.rand(100)\n",
        "\n",
        "# Plotting the scatter plot\n",
        "plt.scatter(x_coord, y_coord, marker = \"*\", color = \"green\")\n",
        "plt.scatter(x1_coord, y1_coord, marker = \"x\", color = \"red\")\n",
        "plt.show()"
      ],
      "metadata": {
        "id": "6mnf2RhP9GQj",
        "colab": {
          "base_uri": "https://localhost:8080/",
          "height": 265
        },
        "outputId": "9909f44e-d328-4aa4-b7b3-dbd8baa6ae66"
      },
      "execution_count": 57,
      "outputs": [
        {
          "output_type": "display_data",
          "data": {
            "text/plain": [
              "<Figure size 432x288 with 1 Axes>"
            ],
            "image/png": "[encoded data removed]"
          },
          "metadata": {
            "needs_background": "light"
          }
        }
      ]
    },
    {
      "cell_type": "markdown",
      "source": [
        "#Matrices"
      ],
      "metadata": {
        "id": "xznJZrqUQ_nv"
      }
    },
    {
      "cell_type": "markdown",
      "source": [
        "###Let's cover some basic functions to create numpy matrices\n",
        "\n",
        "1. Ones, Zeros,and Identity.\n",
        "\n",
        "2. We will introduce some functions that tell you the shape and number of dimensions of the matrix and reshape it according to your choice. "
      ],
      "metadata": {
        "id": "Nw4B2C0YIPue"
      }
    },
    {
      "cell_type": "code",
      "source": [
        "# Creating Numpy Matrices From List\n",
        "\n",
        "# 2D List to np array\n",
        "a = np.array([[1,2],[3,4]])\n",
        "print(\"The 2D Numpy Array is\\n\",a)\n",
        "\n",
        "# 3D List to np array\n",
        "b = np.array([[[1,2],[3,4]],[[5,6],[7,8]]])\n",
        "print(\"The 3D Numpy Array is\\n\",b)"
      ],
      "metadata": {
        "id": "P7X5NsNONx9v",
        "colab": {
          "base_uri": "https://localhost:8080/"
        },
        "outputId": "700a3c3b-2aef-491d-8804-d373e28ce0a2"
      },
      "execution_count": 58,
      "outputs": [
        {
          "output_type": "stream",
          "name": "stdout",
          "text": [
            "The 2D Numpy Array is\n",
            " [[1 2]\n",
            " [3 4]]\n",
            "The 3D Numpy Array is\n",
            " [[[1 2]\n",
            "  [3 4]]\n",
            "\n",
            " [[5 6]\n",
            "  [7 8]]]\n"
          ]
        }
      ]
    },
    {
      "cell_type": "code",
      "source": [
        "I = np.identity(3) #creates an identity matrix of given size\n",
        "print(I)"
      ],
      "metadata": {
        "id": "1tFYKhvRuCcR",
        "colab": {
          "base_uri": "https://localhost:8080/"
        },
        "outputId": "f4fadeaa-d26c-4e52-cace-eb5efe9c2dd8"
      },
      "execution_count": 59,
      "outputs": [
        {
          "output_type": "stream",
          "name": "stdout",
          "text": [
            "[[1. 0. 0.]\n",
            " [0. 1. 0.]\n",
            " [0. 0. 1.]]\n"
          ]
        }
      ]
    },
    {
      "cell_type": "code",
      "source": [
        "#Transformations 1\n",
        "\n",
        "z = np.zeros((2,3)) #used to create an array of zeros with given shape\n",
        "print(\"Z is a matrix of zeros of given size\\n\")\n",
        "print(z)\n",
        "\n",
        "O = np.ones((2,3)) #used to create an array of ones with given shape\n",
        "print(\"O is a matrix of ones of given size\")\n",
        "print(O)\n",
        "\n",
        "I = np.identity(3) #creates an identity matrix of given size\n",
        "print(\"I is an identity matrix of given size\")\n",
        "print(I)\n",
        "\n",
        "\n",
        "z = z.reshape((6,1))\n",
        "print(\"The z matrix after reshaping looks like this\\n\",z)\n",
        "print(z.shape)"
      ],
      "metadata": {
        "id": "BshPFkIozNo7",
        "colab": {
          "base_uri": "https://localhost:8080/"
        },
        "outputId": "35258851-2bdb-4810-c214-c349ca3d7951"
      },
      "execution_count": 60,
      "outputs": [
        {
          "output_type": "stream",
          "name": "stdout",
          "text": [
            "Z is a matrix of zeros of given size\n",
            "\n",
            "[[0. 0. 0.]\n",
            " [0. 0. 0.]]\n",
            "O is a matrix of ones of given size\n",
            "[[1. 1. 1.]\n",
            " [1. 1. 1.]]\n",
            "I is an identity matrix of given size\n",
            "[[1. 0. 0.]\n",
            " [0. 1. 0.]\n",
            " [0. 0. 1.]]\n",
            "The z matrix after reshaping looks like this\n",
            " [[0.]\n",
            " [0.]\n",
            " [0.]\n",
            " [0.]\n",
            " [0.]\n",
            " [0.]]\n",
            "(6, 1)\n"
          ]
        }
      ]
    },
    {
      "cell_type": "code",
      "source": [
        "# Shape of np array\n",
        "\n",
        "arr = np.array([[1,2,3],[4,5,6]])\n",
        "print(\"The np array arr is\\n\",arr)"
      ],
      "metadata": {
        "id": "Hgg2AqAxzEK5",
        "colab": {
          "base_uri": "https://localhost:8080/"
        },
        "outputId": "730b2644-7fc9-4eb1-a4ec-b2e1bb3eb9a3"
      },
      "execution_count": 61,
      "outputs": [
        {
          "output_type": "stream",
          "name": "stdout",
          "text": [
            "The np array arr is\n",
            " [[1 2 3]\n",
            " [4 5 6]]\n"
          ]
        }
      ]
    },
    {
      "cell_type": "code",
      "source": [
        "print(\"The Number of Dimensions of arr is\",arr.ndim)"
      ],
      "metadata": {
        "id": "JrRR0gSu1GOh",
        "colab": {
          "base_uri": "https://localhost:8080/"
        },
        "outputId": "51d5cbe2-85de-4b38-b4d0-3644c422de73"
      },
      "execution_count": 62,
      "outputs": [
        {
          "output_type": "stream",
          "name": "stdout",
          "text": [
            "The Number of Dimensions of arr is 2\n"
          ]
        }
      ]
    },
    {
      "cell_type": "code",
      "source": [
        "print(\"Shape of arr is\",arr.shape)"
      ],
      "metadata": {
        "id": "PrY0hhKtzzu6",
        "colab": {
          "base_uri": "https://localhost:8080/"
        },
        "outputId": "fdc8c461-2fa4-4464-c313-484cf7e65ea2"
      },
      "execution_count": 63,
      "outputs": [
        {
          "output_type": "stream",
          "name": "stdout",
          "text": [
            "Shape of arr is (2, 3)\n"
          ]
        }
      ]
    },
    {
      "cell_type": "code",
      "source": [
        "# Reshape\n",
        "\n",
        "arr = np.zeros((3,4))\n",
        "print(\"The Shape of Original Numpy Array is\",arr.shape)\n",
        "print(\"The Original Numpy Array is\\n\",arr)\n",
        "\n",
        "# np.reshape\n",
        "# Reshapes the Given np array into given shape if possible\n",
        "a = np.reshape(arr,(2,6))\n",
        "print(\"The Shape of Reshaped Numpy Array is\",a.shape)\n",
        "print(\"The Numpy Array after Reshaping looks like this\\n\",a)"
      ],
      "metadata": {
        "id": "oouMS9LrvaSd",
        "colab": {
          "base_uri": "https://localhost:8080/"
        },
        "outputId": "8635f118-cd23-41e7-f680-162e9cac3776"
      },
      "execution_count": 64,
      "outputs": [
        {
          "output_type": "stream",
          "name": "stdout",
          "text": [
            "The Shape of Original Numpy Array is (3, 4)\n",
            "The Original Numpy Array is\n",
            " [[0. 0. 0. 0.]\n",
            " [0. 0. 0. 0.]\n",
            " [0. 0. 0. 0.]]\n",
            "The Shape of Reshaped Numpy Array is (2, 6)\n",
            "The Numpy Array after Reshaping looks like this\n",
            " [[0. 0. 0. 0. 0. 0.]\n",
            " [0. 0. 0. 0. 0. 0.]]\n"
          ]
        }
      ]
    },
    {
      "cell_type": "markdown",
      "source": [
        "###Now we will look at some functions to add and multiply two matrices"
      ],
      "metadata": {
        "id": "MLp_dA1xIrj0"
      }
    },
    {
      "cell_type": "code",
      "source": [
        "# Transformations 2\n",
        "# matmul\n",
        "\n",
        "arr1 = np.array([[1 ,3],[2, 4]])\n",
        "arr2 = np.array([[1, -1],[-1, 1]])\n",
        "\n",
        "print(\"arr1\",arr1)\n",
        "print(\"arr2\",arr2)\n",
        "\n",
        "#Matrix Multiplication on two compatible matrices\n",
        "mul = np.matmul(arr1,arr2)\n",
        "print(\"Result of matrix multiplication\")\n",
        "print(mul)"
      ],
      "metadata": {
        "id": "UzbQSAZTQvVv",
        "colab": {
          "base_uri": "https://localhost:8080/"
        },
        "outputId": "e07ce37a-58db-49f7-c82c-7c02206cbe6d"
      },
      "execution_count": 65,
      "outputs": [
        {
          "output_type": "stream",
          "name": "stdout",
          "text": [
            "arr1 [[1 3]\n",
            " [2 4]]\n",
            "arr2 [[ 1 -1]\n",
            " [-1  1]]\n",
            "Result of matrix multiplication\n",
            "[[-2  2]\n",
            " [-2  2]]\n"
          ]
        }
      ]
    },
    {
      "cell_type": "code",
      "source": [
        "# @\n",
        "\n",
        "arr1 = np.array([[1 ,3],[2, 4]])\n",
        "arr2 = np.array([[1, -1],[-1, 1]])\n",
        "\n",
        "print(\"arr1\",arr1)\n",
        "print(\"arr2\",arr2)\n",
        "\n",
        "#Matrix Multiplication on two compatible matrices\n",
        "mul = arr1@arr2\n",
        "print(\"Result of matrix multiplication\")\n",
        "print(mul)"
      ],
      "metadata": {
        "id": "kCr5NRdFzQvu",
        "colab": {
          "base_uri": "https://localhost:8080/"
        },
        "outputId": "4c80dcd8-1175-4b11-f262-cd8d3b6c951a"
      },
      "execution_count": 66,
      "outputs": [
        {
          "output_type": "stream",
          "name": "stdout",
          "text": [
            "arr1 [[1 3]\n",
            " [2 4]]\n",
            "arr2 [[ 1 -1]\n",
            " [-1  1]]\n",
            "Result of matrix multiplication\n",
            "[[-2  2]\n",
            " [-2  2]]\n"
          ]
        }
      ]
    },
    {
      "cell_type": "markdown",
      "source": [
        "###There are functions to calculate matrix properties like trace, determinant and rank. These are incredibly helpful as they perform lots of computations with just one line of code."
      ],
      "metadata": {
        "id": "bMVfr3LxIyeB"
      }
    },
    {
      "cell_type": "code",
      "source": [
        "#Transformations 3\n",
        "\n",
        "mat = np.array([[1,2,3],[4,5,6],[7,8,9]])\n",
        "print(\"The Matrix is\\n\",mat)\n",
        "# Trace of Matrix\n",
        "trace = np.trace(mat)\n",
        "print(\"Trace of the Matrix is\",trace)\n",
        "\n",
        "# Determinant of Matrix\n",
        "det = np.linalg.det(mat)\n",
        "print(\"Determinant of Matrix is\",det)\n",
        "\n",
        "# Transpose of Matrix\n",
        "mat_t = mat.T\n",
        "print(\"Transpose of the Matrix is\\n\",mat_t)\n",
        "\n",
        "# Rank of Matrix\n",
        "rank = np.linalg.matrix_rank(mat)\n",
        "print(\"Rank of Matrix is\",rank)"
      ],
      "metadata": {
        "id": "GVih2UNTzS2y",
        "colab": {
          "base_uri": "https://localhost:8080/"
        },
        "outputId": "354671d4-faad-4786-e6d8-8e78b9edb8f1"
      },
      "execution_count": 67,
      "outputs": [
        {
          "output_type": "stream",
          "name": "stdout",
          "text": [
            "The Matrix is\n",
            " [[1 2 3]\n",
            " [4 5 6]\n",
            " [7 8 9]]\n",
            "Trace of the Matrix is 15\n",
            "Determinant of Matrix is 0.0\n",
            "Transpose of the Matrix is\n",
            " [[1 4 7]\n",
            " [2 5 8]\n",
            " [3 6 9]]\n",
            "Rank of Matrix is 2\n"
          ]
        }
      ]
    },
    {
      "cell_type": "markdown",
      "source": [
        "###Finally, lets look at matrix transformations like transpose, inverse, exponentiation and norm."
      ],
      "metadata": {
        "id": "bq-zaYsOJBoe"
      }
    },
    {
      "cell_type": "code",
      "source": [
        "#Transformations 4\n",
        "\n",
        "mat = np.array([[1,2,3],[0,1,4],[5,6,0]])\n",
        "print(\"The Matrix is\\n\",mat)\n",
        "\n",
        "mat_inv = np.linalg.inv(mat)\n",
        "print(mat_inv)"
      ],
      "metadata": {
        "id": "iLg--vzzzWfc",
        "colab": {
          "base_uri": "https://localhost:8080/"
        },
        "outputId": "649b202d-4566-40be-8a60-4aecc604a165"
      },
      "execution_count": 68,
      "outputs": [
        {
          "output_type": "stream",
          "name": "stdout",
          "text": [
            "The Matrix is\n",
            " [[1 2 3]\n",
            " [0 1 4]\n",
            " [5 6 0]]\n",
            "[[-24.  18.   5.]\n",
            " [ 20. -15.  -4.]\n",
            " [ -5.   4.   1.]]\n"
          ]
        }
      ]
    },
    {
      "cell_type": "code",
      "source": [
        "# Matrix Power\n",
        "mat_cube = np.linalg.matrix_power(mat,3)\n",
        "print(mat_cube)"
      ],
      "metadata": {
        "id": "-Y1aeuBORa12",
        "colab": {
          "base_uri": "https://localhost:8080/"
        },
        "outputId": "c3c296a0-89af-47e0-f0e6-69a97ed695ed"
      },
      "execution_count": 69,
      "outputs": [
        {
          "output_type": "stream",
          "name": "stdout",
          "text": [
            "[[ 71 120 136]\n",
            " [ 40  89 160]\n",
            " [200 260  79]]\n"
          ]
        }
      ]
    },
    {
      "cell_type": "markdown",
      "source": [
        "###It has some useful statistical functions like mean, variance and standard deviation. "
      ],
      "metadata": {
        "id": "C9QynNQyJ3Ik"
      }
    },
    {
      "cell_type": "code",
      "source": [
        "# Math Functions in Matrices\n",
        "mat = np.array([[1,2,3],[0,1,4],[5,6,0]])\n",
        "print(\"The Matrix is\\n\",mat)\n",
        "\n",
        "# Mean along an Axis\n",
        "mean = np.mean(mat,axis=1)\n",
        "print(\"The Mean along axis=1 is\",mean)\n",
        "\n",
        "# Median along an Axis\n",
        "median = np.median(mat,axis=1)\n",
        "print(\"The Median along axis=1 is\",median)\n",
        "\n",
        "# Variance along an Axis\n",
        "var = np.var(mat,axis=1)\n",
        "print(\"The Variance along axis=1 is\",var)\n",
        "\n",
        "# Standard Deviation along an Axis\n",
        "std = np.std(mat,axis=1)\n",
        "print(\"The Standard Deviation along axis=1 is\",std)"
      ],
      "metadata": {
        "id": "ryXLQtuS9CNz",
        "colab": {
          "base_uri": "https://localhost:8080/"
        },
        "outputId": "a9103a58-120b-4c27-aa02-ee2977e27e8c"
      },
      "execution_count": 70,
      "outputs": [
        {
          "output_type": "stream",
          "name": "stdout",
          "text": [
            "The Matrix is\n",
            " [[1 2 3]\n",
            " [0 1 4]\n",
            " [5 6 0]]\n",
            "The Mean along axis=1 is [2.         1.66666667 3.66666667]\n",
            "The Median along axis=1 is [2. 1. 5.]\n",
            "The Variance along axis=1 is [0.66666667 2.88888889 6.88888889]\n",
            "The Standard Deviation along axis=1 is [0.81649658 1.69967317 2.62466929]\n"
          ]
        }
      ]
    },
    {
      "cell_type": "code",
      "source": [
        "# Squeeze and Expand-Dims\n",
        "\n",
        "x = np.array([[[0], [1], [2]]])\n",
        "print(\"The Original Matrix is\\n\",x)\n",
        "\n",
        "# Squeeze\n",
        "y = np.squeeze(x,axis=0)\n",
        "print(\"The Squeezed Matrix is\\n\",y)\n",
        "\n",
        "# Expand Dims\n",
        "z = np.expand_dims(y,axis=0)\n",
        "print(\"The Expanded Matrix is\\n\",z)"
      ],
      "metadata": {
        "id": "tYGwAdE2EFVO",
        "colab": {
          "base_uri": "https://localhost:8080/"
        },
        "outputId": "7aa37b26-60f7-4118-d2c8-9c8997ebb729"
      },
      "execution_count": 71,
      "outputs": [
        {
          "output_type": "stream",
          "name": "stdout",
          "text": [
            "The Original Matrix is\n",
            " [[[0]\n",
            "  [1]\n",
            "  [2]]]\n",
            "The Squeezed Matrix is\n",
            " [[0]\n",
            " [1]\n",
            " [2]]\n",
            "The Expanded Matrix is\n",
            " [[[0]\n",
            "  [1]\n",
            "  [2]]]\n"
          ]
        }
      ]
    },
    {
      "cell_type": "code",
      "source": [
        "print(np.squeeze(x,axis=0))"
      ],
      "metadata": {
        "id": "Lycs7AP_EUdO",
        "colab": {
          "base_uri": "https://localhost:8080/"
        },
        "outputId": "f02a1928-32e5-41d1-92e7-d97e04368a51"
      },
      "execution_count": 72,
      "outputs": [
        {
          "output_type": "stream",
          "name": "stdout",
          "text": [
            "[[0]\n",
            " [1]\n",
            " [2]]\n"
          ]
        }
      ]
    },
    {
      "cell_type": "markdown",
      "source": [
        "###Solving linear equations can be tiresome and time consuming, its impossible when the number of equations becomes high. Numpy can get it done efficiently with matrices. "
      ],
      "metadata": {
        "id": "kFZGxkf_NHFF"
      }
    },
    {
      "cell_type": "code",
      "source": [
        "# Solving Linear Equations\n",
        "\n",
        "#A\n",
        "A = np.array([[1,2],[3,5]])\n",
        "print(\"Matrix A is\\n\",A)\n",
        "#B\n",
        "B = np.array([1,2])\n",
        "print(\"Vector B is\",B)\n",
        "\n",
        "X = np.linalg.solve(A,B)\n",
        "print(\"X is \",X)\n",
        "\n",
        "# Given A and B, Find X such that AX = B"
      ],
      "metadata": {
        "id": "99qRU8SACNAx",
        "colab": {
          "base_uri": "https://localhost:8080/"
        },
        "outputId": "ff9f7a61-3031-414c-9837-d274af9980aa"
      },
      "execution_count": 73,
      "outputs": [
        {
          "output_type": "stream",
          "name": "stdout",
          "text": [
            "Matrix A is\n",
            " [[1 2]\n",
            " [3 5]]\n",
            "Vector B is [1 2]\n",
            "X is  [-1.  1.]\n"
          ]
        }
      ]
    },
    {
      "cell_type": "markdown",
      "source": [
        "###Stacking matrices in a new dimension has many uses. This can be implemented with the numpy stack function."
      ],
      "metadata": {
        "id": "RccHENEPNXpJ"
      }
    },
    {
      "cell_type": "code",
      "source": [
        "# Stack\n",
        "mat1 = np.array([[1,2],[3,4]])\n",
        "mat2 = np.array([[5,6],[7,8]])\n",
        "\n",
        "stacked_mat = np.stack([mat1,mat2],axis=1)\n",
        "print(\"The Stacked Matrix is\\n\",stacked_mat)"
      ],
      "metadata": {
        "id": "G3CTqv0KyENf",
        "colab": {
          "base_uri": "https://localhost:8080/"
        },
        "outputId": "1f1247fd-9c40-41b7-d56e-25ec7416ae93"
      },
      "execution_count": 74,
      "outputs": [
        {
          "output_type": "stream",
          "name": "stdout",
          "text": [
            "The Stacked Matrix is\n",
            " [[[1 2]\n",
            "  [5 6]]\n",
            "\n",
            " [[3 4]\n",
            "  [7 8]]]\n"
          ]
        }
      ]
    },
    {
      "cell_type": "markdown",
      "source": [
        "###Alright! Now we have a fun exercise for you, implement what you've learnt, follow the instructions below and have fun. "
      ],
      "metadata": {
        "id": "okmw680BNge8"
      }
    },
    {
      "cell_type": "code",
      "source": [
        "#Just run this code to get some files from github\n",
        "!git clone https://github.com/KBVijayVarma/Epoch-Session4"
      ],
      "metadata": {
        "id": "TM83i-uwO9GM",
        "colab": {
          "base_uri": "https://localhost:8080/"
        },
        "outputId": "c42c48c4-6af6-4861-c0bd-880ea88b4dc9"
      },
      "execution_count": 75,
      "outputs": [
        {
          "output_type": "stream",
          "name": "stdout",
          "text": [
            "Cloning into 'Epoch-Session4'...\n",
            "remote: Enumerating objects: 6, done.\u001b[K\n",
            "remote: Counting objects: 100% (6/6), done.\u001b[K\n",
            "remote: Compressing objects: 100% (6/6), done.\u001b[K\n",
            "remote: Total 6 (delta 0), reused 0 (delta 0), pack-reused 0\u001b[K\n",
            "Unpacking objects: 100% (6/6), 1.01 MiB | 8.34 MiB/s, done.\n"
          ]
        }
      ]
    },
    {
      "cell_type": "code",
      "source": [
        "#Python OS module provides the facility to establish the interaction between the user and the operating system\n",
        "os.chdir('Epoch-Session4')"
      ],
      "metadata": {
        "id": "8mNBmEz9PY-X"
      },
      "execution_count": 76,
      "outputs": []
    },
    {
      "cell_type": "markdown",
      "source": [
        "###Lets begin! you can look at the codes above for reference. "
      ],
      "metadata": {
        "id": "YnzUyGhoOFbR"
      }
    },
    {
      "cell_type": "code",
      "source": [
        "#Load the matrices a1 and a2 \n",
        "a1 = np.load('a1.npy')\n",
        "a2 = np.load('a2.npy')\n",
        "\n",
        "#multiply them\n",
        "a = np.matmul(a1,a2)"
      ],
      "metadata": {
        "id": "LV2RXUa3Rfoi"
      },
      "execution_count": 77,
      "outputs": []
    },
    {
      "cell_type": "code",
      "source": [
        "#Load the b matrix\n",
        "b = np.load('b.npy')\n",
        "\n",
        "#Take its transpose\n",
        "b = b.T\n",
        "\n",
        "#Reshape it into a matrix of size 256x256\n",
        "b = np.reshape(b, (256, 256))"
      ],
      "metadata": {
        "id": "M46etTQnRsbS"
      },
      "execution_count": 79,
      "outputs": []
    },
    {
      "cell_type": "code",
      "source": [
        "#Load the c matrix\n",
        "c = np.load('c.npy')\n",
        "\n",
        "#take the inverse\n",
        "c = np.linalg.inv(c)"
      ],
      "metadata": {
        "id": "kOHKPQqaR1ON"
      },
      "execution_count": 78,
      "outputs": []
    },
    {
      "cell_type": "code",
      "source": [
        "#Stacking the matrices for the surprise\n",
        "#convert all matrices to integer type\n",
        "a = a.astype('uint8')\n",
        "b = b.astype('uint8')\n",
        "c = c.astype('uint8')\n",
        "\n",
        "#stack them using np.stack\n",
        "final = np.stack([a,c,b],axis = 2)"
      ],
      "metadata": {
        "id": "74BIYFkoSGss"
      },
      "execution_count": 80,
      "outputs": []
    },
    {
      "cell_type": "code",
      "source": [
        "plt.imshow(final)"
      ],
      "metadata": {
        "id": "MY1qq9mDQTQy",
        "colab": {
          "base_uri": "https://localhost:8080/",
          "height": 286
        },
        "outputId": "c8c2047f-a947-4149-9393-8d7eb5e1d4cb"
      },
      "execution_count": 81,
      "outputs": [
        {
          "output_type": "execute_result",
          "data": {
            "text/plain": [
              "<matplotlib.image.AxesImage at 0x7f869ecd9940>"
            ]
          },
          "metadata": {},
          "execution_count": 81
        },
        {
          "output_type": "display_data",
          "data": {
            "text/plain": [
              "<Figure size 432x288 with 1 Axes>"
            ],
            "image/png": "[encoded data removed]"
          },
          "metadata": {
            "needs_background": "light"
          }
        }
      ]
    }
  ]
}